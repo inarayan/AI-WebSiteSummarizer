{
 "cells": [
  {
   "cell_type": "code",
   "execution_count": 11,
   "id": "be8986d1-0fec-4ef3-bc78-b1e6f8403325",
   "metadata": {},
   "outputs": [],
   "source": [
    "#Make the necessary import\n",
    "import ollama\n",
    "import requests\n",
    "from bs4 import BeautifulSoup\n",
    "from IPython.display import Markdown, display"
   ]
  },
  {
   "cell_type": "code",
   "execution_count": 3,
   "id": "2f1af68e-0b57-4f0e-a426-93bccba560f5",
   "metadata": {},
   "outputs": [],
   "source": [
    "# Constants\n",
    "\n",
    "OLLAMA_API = \"http://localhost:11434/api/chat\"\n",
    "HEADERS = {\"Content-Type\": \"application/json\"}\n",
    "MODEL = \"llama3.2\""
   ]
  },
  {
   "cell_type": "code",
   "execution_count": 2,
   "id": "26d7744b-cd4a-4389-83c6-28ae918ae0ab",
   "metadata": {},
   "outputs": [],
   "source": [
    "# A class to represent a Webpage\n",
    "# Some websites need you to use proper headers when fetching them:\n",
    "headers = {\n",
    " \"User-Agent\": \"Mozilla/5.0 (Windows NT 10.0; Win64; x64) AppleWebKit/537.36 (KHTML, like Gecko) Chrome/117.0.0.0 Safari/537.36\"\n",
    "}\n",
    "\n",
    "class Website:\n",
    "\n",
    "    def __init__(self, url):\n",
    "        \"\"\"\n",
    "        Create this Website object from the given url using the BeautifulSoup library\n",
    "        \"\"\"\n",
    "        self.url = url\n",
    "        response = requests.get(url, headers=headers)\n",
    "        soup = BeautifulSoup(response.content, 'html.parser')\n",
    "        self.title = soup.title.string if soup.title else \"No title found\"\n",
    "        for irrelevant in soup.body([\"script\", \"style\", \"img\", \"input\"]):\n",
    "            irrelevant.decompose()\n",
    "        self.text = soup.body.get_text(separator=\"\\n\", strip=True)"
   ]
  },
  {
   "cell_type": "code",
   "execution_count": 6,
   "id": "fe3b557c-9745-4253-842a-5b82d9ac36ef",
   "metadata": {},
   "outputs": [],
   "source": [
    "# Let's try one out. Change the website and add print statements to follow along.\n",
    "\n",
    "webSite = Website(\"https://study.iitm.ac.in/ds/\")\n",
    "#print(ed.title)\n",
    "#print(ed.text)"
   ]
  },
  {
   "cell_type": "code",
   "execution_count": 8,
   "id": "e7e22347-3413-4521-989e-5891e1a0e835",
   "metadata": {},
   "outputs": [],
   "source": [
    "# Define our system prompt .\"\n",
    "\n",
    "system_prompt = \"You are an assistant that analyzes the contents of a website \\\n",
    "and provides a short summary, ignoring text that might be navigation related. \\\n",
    "Respond in markdown.\""
   ]
  },
  {
   "cell_type": "code",
   "execution_count": 9,
   "id": "988845e2-661a-4f45-b3bb-582cda6be090",
   "metadata": {},
   "outputs": [],
   "source": [
    "# A function that writes a User Prompt that asks for summaries of websites:\n",
    "\n",
    "def user_prompt_for(website):\n",
    "    user_prompt = f\"You are looking at a website titled {website.title}\"\n",
    "    user_prompt += \"\\nThe contents of this website is as follows; \\\n",
    "please provide a short summary of this website in markdown. \\\n",
    "If it includes news or announcements, then summarize these too.\\n\\n\"\n",
    "    user_prompt += website.text\n",
    "    return user_prompt"
   ]
  },
  {
   "cell_type": "code",
   "execution_count": 10,
   "id": "5dac65ee-0f81-47f9-b66f-9aa770bca3e7",
   "metadata": {},
   "outputs": [],
   "source": [
    "# See how this function creates exactly the format above\n",
    "\n",
    "def messages_for(website):\n",
    "    return [\n",
    "        {\"role\": \"system\", \"content\": system_prompt},\n",
    "        {\"role\": \"user\", \"content\": user_prompt_for(website)}\n",
    "    ]"
   ]
  },
  {
   "cell_type": "code",
   "execution_count": 16,
   "id": "c8244dbf-968f-4d37-9e4d-01f53b40bf51",
   "metadata": {},
   "outputs": [],
   "source": [
    "# And now: call the OpenAI API. You will get very familiar with this!\n",
    "\n",
    "def summarize(url):\n",
    "    website = Website(url)\n",
    "    response = ollama.chat(\n",
    "        model = MODEL,\n",
    "        messages = messages_for(website)\n",
    "    )\n",
    "    return response.message.content"
   ]
  },
  {
   "cell_type": "code",
   "execution_count": 17,
   "id": "4696cc8e-cc17-4773-b3c4-462362a652e7",
   "metadata": {},
   "outputs": [],
   "source": [
    "# A function to display this nicely in the Jupyter output, using markdown\n",
    "\n",
    "def display_summary(url):\n",
    "    summary = summarize(url)\n",
    "    display(Markdown(summary))"
   ]
  },
  {
   "cell_type": "code",
   "execution_count": 18,
   "id": "884c5366-d168-4865-b653-5c1f91402924",
   "metadata": {},
   "outputs": [
    {
     "data": {
      "text/markdown": [
       "**IIT Madras Degree Program in Data Science and Applications**\n",
       "===========================================================\n",
       "\n",
       "### Overview\n",
       "\n",
       "IIT Madras offers a 4-year Bachelor of Science (BS) Degree in Data Science and Applications, with options to exit earlier at the foundation, diploma, or BSc degree level. The program allows students to work towards an undergraduate degree/diploma regardless of age, location, or academic background.\n",
       "\n",
       "### Key Features\n",
       "\n",
       "* Over 29,000 students currently studying in the program\n",
       "* Over 3,000 working professionals enrolled\n",
       "* More than 850 secured admissions to Masters/PhD programs within and outside India\n",
       "* Awarded as \"Best Online Program\" by QS Reimagine Education & The Wharton School, University of Pennsylvania\n",
       "* Scholarship available for learners from < 5LPA (up to 75% fee waivers)\n",
       "* No age limit for admission\n",
       "\n",
       "### Course Structure\n",
       "\n",
       "The program includes:\n",
       "\n",
       "* Data science courses: ML Foundations, Deep Learning, Reinforcement Learning, Computer Vision, LLMs, Big Data\n",
       "* Programming courses: Python, Java, PostGreSQL, Linux commands, C programming, Full Stack Application Development\n",
       "* Business courses: Business Data Management, Business Analytics, Tools in Data Science, Financial Forensics, Market Research, Managerial Economics\n",
       "\n",
       "### Important Dates\n",
       "\n",
       "* Applications Open now for January 2025 Batch | Applications Close: January 02, 2025 | Exam: February 23, 2025\n",
       "\n",
       "### Contact Information\n",
       "\n",
       "support@study.iitm.ac.in\n",
       "7850999966\n",
       "IITM BS Degree Office, 3rd Floor, ICSR Building, IIT Madras, Chennai - 600036"
      ],
      "text/plain": [
       "<IPython.core.display.Markdown object>"
      ]
     },
     "metadata": {},
     "output_type": "display_data"
    }
   ],
   "source": [
    "display_summary(\"https://study.iitm.ac.in/ds/\")"
   ]
  },
  {
   "cell_type": "code",
   "execution_count": null,
   "id": "08365d10-44f0-4e98-a29d-c295cb45ad34",
   "metadata": {},
   "outputs": [],
   "source": []
  }
 ],
 "metadata": {
  "kernelspec": {
   "display_name": "Python 3 (ipykernel)",
   "language": "python",
   "name": "python3"
  },
  "language_info": {
   "codemirror_mode": {
    "name": "ipython",
    "version": 3
   },
   "file_extension": ".py",
   "mimetype": "text/x-python",
   "name": "python",
   "nbconvert_exporter": "python",
   "pygments_lexer": "ipython3",
   "version": "3.11.5"
  }
 },
 "nbformat": 4,
 "nbformat_minor": 5
}
